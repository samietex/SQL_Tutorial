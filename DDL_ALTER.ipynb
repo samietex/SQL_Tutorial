{
    "metadata": {
        "kernelspec": {
            "name": "SQL",
            "display_name": "SQL",
            "language": "sql"
        },
        "language_info": {
            "name": "sql",
            "version": ""
        }
    },
    "nbformat_minor": 2,
    "nbformat": 4,
    "cells": [
        {
            "cell_type": "markdown",
            "source": [
                "# ALTER\n",
                "\n",
                "The ALTER command is a very important command in the DATA DEFINITION LANGUAGE of SQL. In this tutorial, I will be delving deeper into all you need to know about the command and how you can use it to make changes to the structure of tables. The command in SQL DDL is used to modify existing database objects like tables, views, indexes, etc.\n",
                "\n",
                "Let's start with creating a database then creating data tables in the database."
            ],
            "metadata": {
                "azdata_cell_guid": "0fb94c6d-bd19-4d48-9ccd-d79aa656043f"
            },
            "attachments": {}
        },
        {
            "cell_type": "code",
            "source": [
                "CREATE DATABASE TUTORIAL;"
            ],
            "metadata": {
                "azdata_cell_guid": "f61d34e0-0af4-4da1-917c-0572d34cb0dd",
                "language": "sql"
            },
            "outputs": [
                {
                    "output_type": "display_data",
                    "data": {
                        "text/html": "Commands completed successfully."
                    },
                    "metadata": {}
                },
                {
                    "output_type": "display_data",
                    "data": {
                        "text/html": "Total execution time: 00:00:00.117"
                    },
                    "metadata": {}
                }
            ],
            "execution_count": 8
        },
        {
            "cell_type": "markdown",
            "source": [
                "Now that the \"TUTORIAL\" database has been created, we can then go ahead to use the \"USE\" command to change our database to the TUTORIAL database."
            ],
            "metadata": {
                "language": "sql",
                "azdata_cell_guid": "b618150e-7291-41a5-b542-b631d1c36193"
            },
            "attachments": {}
        },
        {
            "cell_type": "code",
            "source": [
                "USE TUTORIAL;"
            ],
            "metadata": {
                "language": "sql",
                "azdata_cell_guid": "96cb358b-88e9-4913-97b0-bbea79568acc"
            },
            "outputs": [
                {
                    "output_type": "display_data",
                    "data": {
                        "text/html": "Commands completed successfully."
                    },
                    "metadata": {}
                },
                {
                    "output_type": "display_data",
                    "data": {
                        "text/html": "Total execution time: 00:00:00"
                    },
                    "metadata": {}
                }
            ],
            "execution_count": 9
        },
        {
            "cell_type": "markdown",
            "source": [
                "The SQL code below creates a  table named `Employees` with four columns: `Employee_ID`, `Employee_Name`, `Employee_Level`, and `Employee_Address`. Each column is defined with its respective data type and maximum length. This table can then be used to store information about employees, such as their ID, name, level, and address."
            ],
            "metadata": {
                "language": "sql",
                "azdata_cell_guid": "a285e387-d164-4b15-8694-7da5d62d6e8c"
            },
            "attachments": {}
        },
        {
            "cell_type": "code",
            "source": [
                "CREATE TABLE Employees (\r\n",
                "Employee_ID INT,\r\n",
                "Employee_Name VARCHAR(255),\r\n",
                "Employee_Level VARCHAR(255),\r\n",
                "Employee_Address VARCHAR(255)\r\n",
                "\r\n",
                ");"
            ],
            "metadata": {
                "language": "sql",
                "azdata_cell_guid": "bb995ab5-d4b7-4ac2-9d7e-765c0945accd"
            },
            "outputs": [
                {
                    "output_type": "display_data",
                    "data": {
                        "text/html": "Commands completed successfully."
                    },
                    "metadata": {}
                },
                {
                    "output_type": "display_data",
                    "data": {
                        "text/html": "Total execution time: 00:00:00.002"
                    },
                    "metadata": {}
                }
            ],
            "execution_count": 10
        },
        {
            "cell_type": "markdown",
            "source": [
                "Same with the lines of code below, it creates a table named `Departments` with two columns: `Department_ID` and `Department_Name`. The `Department_ID` column stores integer values representing the department's ID, while the Department_Name column stores string values representing the department's name. This table can be used to store information about different departments within an organization."
            ],
            "metadata": {
                "language": "sql",
                "azdata_cell_guid": "9f991272-93ae-4aed-b6fd-dee1d19cbaf2"
            },
            "attachments": {}
        },
        {
            "cell_type": "code",
            "source": [
                "CREATE TABLE Departments(\r\n",
                "Department_ID INT,\r\n",
                "Department_Name VARCHAR(255)\r\n",
                "\r\n",
                ");"
            ],
            "metadata": {
                "language": "sql",
                "azdata_cell_guid": "ab134a5b-a5ca-4391-baa5-badbe32ce836"
            },
            "outputs": [
                {
                    "output_type": "display_data",
                    "data": {
                        "text/html": "Commands completed successfully."
                    },
                    "metadata": {}
                },
                {
                    "output_type": "display_data",
                    "data": {
                        "text/html": "Total execution time: 00:00:00.001"
                    },
                    "metadata": {}
                }
            ],
            "execution_count": 11
        },
        {
            "cell_type": "markdown",
            "source": [
                "The SQL lines of code modifies the `Employees` table by adding a new column named `Gender`. This column can be used to store information about the gender of each employee."
            ],
            "metadata": {
                "language": "sql",
                "azdata_cell_guid": "a4d4ee2c-a33a-4e6b-8c7e-4c1f1bf976e1"
            },
            "attachments": {}
        },
        {
            "cell_type": "code",
            "source": [
                "ALTER TABLE Employees\r\n",
                "ADD Gender VARCHAR(255);"
            ],
            "metadata": {
                "language": "sql",
                "azdata_cell_guid": "25838651-4692-4fa3-b1fb-8444d3b07dfe"
            },
            "outputs": [
                {
                    "output_type": "display_data",
                    "data": {
                        "text/html": "Commands completed successfully."
                    },
                    "metadata": {}
                },
                {
                    "output_type": "display_data",
                    "data": {
                        "text/html": "Total execution time: 00:00:00.001"
                    },
                    "metadata": {}
                }
            ],
            "execution_count": 12
        },
        {
            "cell_type": "markdown",
            "source": [
                "The SQL statement below modifies the `Employees` table by removing the `Gender` column. This action permanently removes the column and its associated data from the table."
            ],
            "metadata": {
                "language": "sql",
                "azdata_cell_guid": "a7b3fb84-d9c1-428c-9f13-128cc1221fce"
            },
            "attachments": {}
        },
        {
            "cell_type": "code",
            "source": [
                "ALTER TABLE Employees\r\n",
                "DROP COLUMN Gender;"
            ],
            "metadata": {
                "language": "sql",
                "azdata_cell_guid": "9694b13f-0d3e-4f11-bf55-2ee32af830d8"
            },
            "outputs": [
                {
                    "output_type": "display_data",
                    "data": {
                        "text/html": "Commands completed successfully."
                    },
                    "metadata": {}
                },
                {
                    "output_type": "display_data",
                    "data": {
                        "text/html": "Total execution time: 00:00:00.001"
                    },
                    "metadata": {}
                }
            ],
            "execution_count": 13
        },
        {
            "cell_type": "markdown",
            "source": [
                "The SQL statement below modifies the `Employee_ID` column in the `Employees` table, changing its data type from integer to a variable-length character string with a maximum length of 255 characters. This could be useful if you need to store employee IDs as strings rather than integers for any reason. However, it's important to note that altering a column's data type may cause data loss or other issues if the new data type cannot accommodate the existing data in the column. Always proceed with caution when altering column data types."
            ],
            "metadata": {
                "language": "sql",
                "azdata_cell_guid": "8ed2528f-d674-4027-b103-1432266af938"
            },
            "attachments": {}
        },
        {
            "cell_type": "code",
            "source": [
                "ALTER TABLE Employees\r\n",
                "ALTER COLUMN Employee_ID VARCHAR(255);"
            ],
            "metadata": {
                "language": "sql",
                "azdata_cell_guid": "2e413315-865e-477e-9ff2-29e57e388863"
            },
            "outputs": [
                {
                    "output_type": "display_data",
                    "data": {
                        "text/html": "Commands completed successfully."
                    },
                    "metadata": {}
                },
                {
                    "output_type": "display_data",
                    "data": {
                        "text/html": "Total execution time: 00:00:00.006"
                    },
                    "metadata": {}
                }
            ],
            "execution_count": 14
        },
        {
            "cell_type": "markdown",
            "source": [
                "The SQL statement below modifies the  `Employee_ID`  column in the  `Employees`  table, changing its data type back to integer and ensuring that it cannot contain NULL values. This might be useful if you previously altered the column to allow NULL values but now want to enforce that every employee record must have a valid integer ID."
            ],
            "metadata": {
                "language": "sql",
                "azdata_cell_guid": "8d40996f-14b1-4f7b-a6e4-25600d2abcba"
            },
            "attachments": {}
        },
        {
            "cell_type": "code",
            "source": [
                "ALTER TABLE Employees\r\n",
                "ALTER COLUMN Employee_ID INT NOT NULL;"
            ],
            "metadata": {
                "language": "sql",
                "azdata_cell_guid": "3f55dc60-3a12-4688-9fd4-86164a0a2a59"
            },
            "outputs": [
                {
                    "output_type": "display_data",
                    "data": {
                        "text/html": "Commands completed successfully."
                    },
                    "metadata": {}
                },
                {
                    "output_type": "display_data",
                    "data": {
                        "text/html": "Total execution time: 00:00:00.004"
                    },
                    "metadata": {}
                }
            ],
            "execution_count": 17
        },
        {
            "cell_type": "markdown",
            "source": [
                "Initially, we did not make the `Employee_ID` a PRIMARY KEY so that's what we will be doing here. The SQL statement below adds a primary key constraint named `PK_Employees` to the `Employees` table, specifying that the `Employee_ID` column serves as the primary key for the table. This constraint enforces uniqueness and non-nullability for the `Employee_ID` column, ensuring that each employee record is uniquely identified by their ID."
            ],
            "metadata": {
                "language": "sql",
                "azdata_cell_guid": "643050df-1516-48c8-9b99-8dc5786b1483"
            },
            "attachments": {}
        },
        {
            "cell_type": "code",
            "source": [
                "ALTER TABLE Employees\r\n",
                "ADD CONSTRAINT PK_ID PRIMARY KEY (Employee_ID);"
            ],
            "metadata": {
                "language": "sql",
                "azdata_cell_guid": "b02ab3e6-d95e-46bc-b1c0-324f51b40e91",
                "tags": []
            },
            "outputs": [
                {
                    "output_type": "display_data",
                    "data": {
                        "text/html": "Commands completed successfully."
                    },
                    "metadata": {}
                },
                {
                    "output_type": "display_data",
                    "data": {
                        "text/html": "Total execution time: 00:00:00.002"
                    },
                    "metadata": {}
                }
            ],
            "execution_count": 31
        },
        {
            "cell_type": "code",
            "source": [
                "ALTER TABLE Employees\r\n",
                "DROP CONSTRAINT PK_ID;"
            ],
            "metadata": {
                "language": "sql",
                "azdata_cell_guid": "c98d3f87-f9ba-4f30-a009-5dc470624451"
            },
            "outputs": [
                {
                    "output_type": "display_data",
                    "data": {
                        "text/html": "Commands completed successfully."
                    },
                    "metadata": {}
                },
                {
                    "output_type": "display_data",
                    "data": {
                        "text/html": "Total execution time: 00:00:00.002"
                    },
                    "metadata": {}
                }
            ],
            "execution_count": 26
        },
        {
            "cell_type": "markdown",
            "source": [
                "Let's make some changes on the `Departments` table. The plan is to make the `Department_ID` column a PRIMARY KEY, but to successfully do that, we will first have to make it non-nullable. The SQL statement below modifies the `Department_ID` column in the `Departments` table, changing its data type to integer and ensuring that it cannot contain NULL values. This might be useful if you want to enforce that every department record must have a valid integer ID."
            ],
            "metadata": {
                "language": "sql",
                "azdata_cell_guid": "d57aac90-b92b-43fe-9739-dba359a3d65f"
            },
            "attachments": {}
        },
        {
            "cell_type": "code",
            "source": [
                "ALTER TABLE Departments\r\n",
                "ALTER COLUMN Department_ID INT NOT NULL;"
            ],
            "metadata": {
                "language": "sql",
                "azdata_cell_guid": "add889da-1f47-4547-b719-bfd5e2fcaa97"
            },
            "outputs": [
                {
                    "output_type": "display_data",
                    "data": {
                        "text/html": "Commands completed successfully."
                    },
                    "metadata": {}
                },
                {
                    "output_type": "display_data",
                    "data": {
                        "text/html": "Total execution time: 00:00:00.004"
                    },
                    "metadata": {}
                }
            ],
            "execution_count": 27
        },
        {
            "cell_type": "markdown",
            "source": [
                "Now that we have made the Department_ID column non-nullable, we can then go ahead to make it a PRIMARY KEY. The SQL statement below adds a primary key constraint named `PK_Departments` to the `Departments` table, specifying that the `Department_ID` column serves as the primary key for the table. This constraint enforces uniqueness and non-nullability for the Department_ID column, ensuring that each department record is uniquely identified by its ID."
            ],
            "metadata": {
                "language": "sql",
                "azdata_cell_guid": "7e9ce52a-bc6a-4091-92e7-f816a73dd893"
            },
            "attachments": {}
        },
        {
            "cell_type": "code",
            "source": [
                "ALTER TABLE Departments\r\n",
                "ADD CONSTRAINT PK_Departments PRIMARY KEY (Department_ID);"
            ],
            "metadata": {
                "language": "sql",
                "azdata_cell_guid": "72c11aa0-fd93-4dae-9f8f-73877a1eda6a"
            },
            "outputs": [
                {
                    "output_type": "display_data",
                    "data": {
                        "text/html": "Commands completed successfully."
                    },
                    "metadata": {}
                },
                {
                    "output_type": "display_data",
                    "data": {
                        "text/html": "Total execution time: 00:00:00.002"
                    },
                    "metadata": {}
                }
            ],
            "execution_count": 28
        },
        {
            "cell_type": "markdown",
            "source": [
                "If we will go back to the `Employees` table, we will notice that there's no `Department_ID` in the table. What we will be doing at this stage is to add the column to the `Employees` table. The SQL statement below adds a new column named `Department_ID` to the Employees table, which can be used to associate each employee with a department. However, it's important to note that adding a new column without any additional constraints will allow NULL values in the `Department_ID` column. If you want to enforce referential integrity with the `Departments` table, you may consider adding a foreign key constraint to ensure that each `Department_ID` value in the `Employees` table corresponds to a valid department in the `Departments` table."
            ],
            "metadata": {
                "language": "sql",
                "azdata_cell_guid": "aa00accf-3b3c-4e0b-9d35-7abda713386b"
            },
            "attachments": {}
        },
        {
            "cell_type": "code",
            "source": [
                "ALTER TABLE Employees\r\n",
                "ADD Department_ID INT;"
            ],
            "metadata": {
                "language": "sql",
                "azdata_cell_guid": "501deb8a-7664-4f9a-b07d-1015cf9d4736"
            },
            "outputs": [
                {
                    "output_type": "display_data",
                    "data": {
                        "text/html": "Commands completed successfully."
                    },
                    "metadata": {}
                },
                {
                    "output_type": "display_data",
                    "data": {
                        "text/html": "Total execution time: 00:00:00.001"
                    },
                    "metadata": {}
                }
            ],
            "execution_count": 29
        },
        {
            "cell_type": "markdown",
            "source": [
                "We already expressed some concerns above as regards referential integrity with the `Departments` table. Let's sort that out. The SQL statement below adds a foreign key constraint named `FK_Department_ID` to the `Employees` table, ensuring that the values in the `Department_ID` column of the `Employees` table are valid and exist in the `Department_ID` column of the `Departments` table. This constraint helps maintain referential integrity between the two tables."
            ],
            "metadata": {
                "language": "sql",
                "azdata_cell_guid": "a2ccd074-7026-4566-a023-5ee6be8c9f8a"
            },
            "attachments": {}
        },
        {
            "cell_type": "code",
            "source": [
                "ALTER TABLE Employees\r\n",
                "ADD CONSTRAINT FK_Department_ID \r\n",
                "FOREIGN KEY (Department_ID) REFERENCES Departments(Department_ID);"
            ],
            "metadata": {
                "language": "sql",
                "azdata_cell_guid": "40434b33-866d-4162-b982-04a9e469e866"
            },
            "outputs": [
                {
                    "output_type": "display_data",
                    "data": {
                        "text/html": "Commands completed successfully."
                    },
                    "metadata": {}
                },
                {
                    "output_type": "display_data",
                    "data": {
                        "text/html": "Total execution time: 00:00:00.002"
                    },
                    "metadata": {}
                }
            ],
            "execution_count": 30
        },
        {
            "cell_type": "markdown",
            "source": [
                "The SQL statement below removes the foreign key constraint `FK_Department_ID` from the `Employees` table. Once the constraint is dropped, there will be no enforcement of referential integrity between the `Department_ID` column in the `Employees` table and the `Department_ID` column in the `Departments` table."
            ],
            "metadata": {
                "language": "sql",
                "azdata_cell_guid": "2c1f3b85-18c5-48e4-afbd-77addd17097e"
            },
            "attachments": {}
        },
        {
            "cell_type": "code",
            "source": [
                "ALTER TABLE Employees\r\n",
                "DROP CONSTRAINT FK_Department_ID;"
            ],
            "metadata": {
                "language": "sql",
                "azdata_cell_guid": "7d131483-378b-402a-8b9e-e3e198b19e8d"
            },
            "outputs": [
                {
                    "output_type": "display_data",
                    "data": {
                        "text/html": "Commands completed successfully."
                    },
                    "metadata": {}
                },
                {
                    "output_type": "display_data",
                    "data": {
                        "text/html": "Total execution time: 00:00:00.004"
                    },
                    "metadata": {}
                }
            ],
            "execution_count": 18
        },
        {
            "cell_type": "markdown",
            "source": [
                "What we are trying to prove here is that the FOREIGN KEY constraint name can be changed but must start with `FK`. Here we are going to be adding a new FOREIGN KEY constraint but with another name, `FK_Employees_Departments` to the `Employees` table, ensuring that the values in the `Department_ID` column of the `Employees` table are valid and exist in the `Department_ID` column of the `Departments` table. This constraint helps maintain referential integrity between the two tables."
            ],
            "metadata": {
                "language": "sql",
                "azdata_cell_guid": "358c5b47-3531-4968-b1eb-58fe747170b4"
            },
            "attachments": {}
        },
        {
            "cell_type": "code",
            "source": [
                "ALTER TABLE Employees\r\n",
                "ADD CONSTRAINT FK_Employees_Departments \r\n",
                "FOREIGN KEY(Department_ID) REFERENCES Departments(Department_ID)"
            ],
            "metadata": {
                "language": "sql",
                "azdata_cell_guid": "52c0408f-5aef-42a9-9268-84be0a752029"
            },
            "outputs": [
                {
                    "output_type": "display_data",
                    "data": {
                        "text/html": "Commands completed successfully."
                    },
                    "metadata": {}
                },
                {
                    "output_type": "display_data",
                    "data": {
                        "text/html": "Total execution time: 00:00:00.002"
                    },
                    "metadata": {}
                }
            ],
            "execution_count": 19
        },
        {
            "cell_type": "markdown",
            "source": [
                "The SQL statement below adds a new column named `Age` to the `Employees` table, which can be used to store the age of each employee. However, it's important to note that adding a new column without any additional constraints will allow NULL values in the `Age` column. Depending on your data requirements, you may want to add constraints such as NOT NULL to ensure that the `Age` column always contains a value."
            ],
            "metadata": {
                "language": "sql",
                "azdata_cell_guid": "ac06e07c-8869-4906-bb34-35224cef4b27"
            },
            "attachments": {}
        },
        {
            "cell_type": "code",
            "source": [
                "ALTER TABLE Employees\r\n",
                "ADD Age INT;"
            ],
            "metadata": {
                "language": "sql",
                "azdata_cell_guid": "0ce2b6ae-95ba-4fe9-b3a2-cb194feddee8"
            },
            "outputs": [
                {
                    "output_type": "display_data",
                    "data": {
                        "text/html": "Commands completed successfully."
                    },
                    "metadata": {}
                },
                {
                    "output_type": "display_data",
                    "data": {
                        "text/html": "Total execution time: 00:00:00.002"
                    },
                    "metadata": {}
                }
            ],
            "execution_count": 32
        },
        {
            "cell_type": "markdown",
            "source": [
                "Let's address the concerns raised in the above lines of code and add a constraint. The SQL statement below adds a check constraint named `CK_Age` to the `Employees` table, ensuring that the values in the `Age` column meet the specified condition (in this case, being greater than 18). This constraint helps enforce data integrity rules at the database level."
            ],
            "metadata": {
                "language": "sql",
                "azdata_cell_guid": "dc8a6351-3a51-4e5d-9373-852fbf0603ec"
            },
            "attachments": {}
        },
        {
            "cell_type": "code",
            "source": [
                "ALTER TABLE Employees\r\n",
                "ADD CONSTRAINT CK_Age\r\n",
                "CHECK (Age > 18);"
            ],
            "metadata": {
                "language": "sql",
                "azdata_cell_guid": "7a2b5ab7-3961-4a71-9d6d-56f59759ab57"
            },
            "outputs": [
                {
                    "output_type": "display_data",
                    "data": {
                        "text/html": "Commands completed successfully."
                    },
                    "metadata": {}
                },
                {
                    "output_type": "display_data",
                    "data": {
                        "text/html": "Total execution time: 00:00:00.001"
                    },
                    "metadata": {}
                }
            ],
            "execution_count": 38
        },
        {
            "cell_type": "markdown",
            "source": [
                "The SQL statement below adds a unique constraint named `UQ_Employee_Name` to the `Employees` table, ensuring that each `Employee_Name` value is unique within the table. This constraint helps maintain data integrity by preventing duplicate employee names."
            ],
            "metadata": {
                "language": "sql",
                "azdata_cell_guid": "ff73a97c-1315-434c-b8b5-692351da5342"
            },
            "attachments": {}
        },
        {
            "cell_type": "code",
            "source": [
                "ALTER TABLE Employees\r\n",
                "ADD CONSTRAINT UQ_Employee_Name\r\n",
                "UNIQUE(Employee_Name);"
            ],
            "metadata": {
                "language": "sql",
                "azdata_cell_guid": "f92f8e6c-f89c-4716-b452-8d6064d6f029"
            },
            "outputs": [
                {
                    "output_type": "display_data",
                    "data": {
                        "text/html": "Commands completed successfully."
                    },
                    "metadata": {}
                },
                {
                    "output_type": "display_data",
                    "data": {
                        "text/html": "Total execution time: 00:00:00.003"
                    },
                    "metadata": {}
                }
            ],
            "execution_count": 39
        },
        {
            "cell_type": "markdown",
            "source": [
                "The SQL statement below modifies the `Department_ID` column in the `Departments` table, changing its data type to integer and ensuring that it cannot contain NULL values. This modification ensures that every record in the `Departments` table must have a valid integer ID."
            ],
            "metadata": {
                "language": "sql",
                "azdata_cell_guid": "b390d7a6-f964-47dd-beb2-dc3222dd6d22"
            },
            "attachments": {}
        },
        {
            "cell_type": "code",
            "source": [
                "ALTER TABLE Departments\r\n",
                "ALTER COLUMN Department_ID INT NOT NULL;"
            ],
            "metadata": {
                "language": "sql",
                "azdata_cell_guid": "e3025f56-c691-4611-8207-b50dfb94dadf"
            },
            "outputs": [
                {
                    "output_type": "display_data",
                    "data": {
                        "text/html": "Commands completed successfully."
                    },
                    "metadata": {}
                },
                {
                    "output_type": "display_data",
                    "data": {
                        "text/html": "Total execution time: 00:00:00.002"
                    },
                    "metadata": {}
                }
            ],
            "execution_count": 40
        },
        {
            "cell_type": "markdown",
            "source": [
                "The SQL statement below adds a default constraint named `DF_Department_Name` to the `Departments` table, ensuring that the `Department_Name` column has a default value of 'Finance' if no value is explicitly specified during an INSERT operation."
            ],
            "metadata": {
                "language": "sql",
                "azdata_cell_guid": "07382b23-a235-4795-9147-01714fb45133"
            },
            "attachments": {}
        },
        {
            "cell_type": "code",
            "source": [
                "ALTER TABLE Departments\r\n",
                "ADD CONSTRAINT DF_Department_Name \r\n",
                "DEFAULT 'Finance' FOR Department_Name;"
            ],
            "metadata": {
                "language": "sql",
                "azdata_cell_guid": "eb73c58c-2df7-4aae-bbd1-e2f377d332a6"
            },
            "outputs": [
                {
                    "output_type": "display_data",
                    "data": {
                        "text/html": "Commands completed successfully."
                    },
                    "metadata": {}
                },
                {
                    "output_type": "display_data",
                    "data": {
                        "text/html": "Total execution time: 00:00:00.004"
                    },
                    "metadata": {}
                }
            ],
            "execution_count": 3
        }
    ]
}