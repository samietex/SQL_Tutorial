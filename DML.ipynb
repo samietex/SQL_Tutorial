{
    "metadata": {
        "kernelspec": {
            "name": "SQL",
            "display_name": "SQL",
            "language": "sql"
        },
        "language_info": {
            "name": "sql",
            "version": ""
        }
    },
    "nbformat_minor": 2,
    "nbformat": 4,
    "cells": [
        {
            "cell_type": "markdown",
            "source": [
                "Data Manipulation Language (DML) in SQL Server is used to manage data within the database. It includes commands like `INSERT`, `UPDATE`, and `DELETE`. In this tutorial, we'll cover these commands along with examples and exercises.\n",
                "\n",
                "## 1. INSERT Statement \n",
                "The INSERT statement is used to add new rows of data into a table.\n",
                "\n",
                "```\n",
                "INSERT INTO TableName\n",
                "VALUES (value1, value2, ...);\n",
                "\n",
                "```"
            ],
            "metadata": {
                "azdata_cell_guid": "c8714c43-ae51-441f-a252-8cc9cf5aae9e"
            },
            "attachments": {}
        },
        {
            "cell_type": "code",
            "source": [
                "USE online_bookstore"
            ],
            "metadata": {
                "azdata_cell_guid": "6dc0f28b-977e-4ead-96b9-bd60305116f8",
                "language": "sql"
            },
            "outputs": [],
            "execution_count": null
        },
        {
            "cell_type": "code",
            "source": [
                "INSERT INTO Books\r\n",
                "VALUES (100, 'Song of Ice and Fire', 'George RR Martins', 5000, 10, 'Fiction');"
            ],
            "metadata": {
                "azdata_cell_guid": "04b35afd-cead-4cd7-aa30-7fd0f289a714",
                "language": "sql"
            },
            "outputs": [
                {
                    "output_type": "display_data",
                    "data": {
                        "text/html": "(1 row affected)"
                    },
                    "metadata": {}
                },
                {
                    "output_type": "display_data",
                    "data": {
                        "text/html": "Total execution time: 00:00:00.003"
                    },
                    "metadata": {}
                }
            ],
            "execution_count": 2
        },
        {
            "cell_type": "markdown",
            "source": [
                "#### Case Study Exercise 1:\n",
                "\n",
                "Consider a Books table with columns (Book_ID, Title, Author, Price, Inventory_count, Genre). Insert a new book with the following details:\n",
                "\n",
                "- Book_ID: 200\n",
                "- Title: A Gentleman in Moscow\n",
                "- Author: Amor Towles\n",
                "- Price: 3500\n",
                "- Inventory_count: 20\n",
                "- Genre: Fiction\n",
                "\n",
                "## 2. UPDATE Statement\n",
                "\n",
                "The `UPDATE` statement is used to modify existing records in a table.\n",
                "\n",
                "```bash\n",
                "UPDATE TableName\n",
                "SET column1 = value1, column2 = value2, ...\n",
                "WHERE condition;\n",
                "\n",
                "```"
            ],
            "metadata": {
                "language": "sql",
                "azdata_cell_guid": "1d619b4a-18a2-4419-b746-fa9879e2ff77"
            },
            "attachments": {}
        },
        {
            "cell_type": "code",
            "source": [
                "UPDATE Books\r\n",
                "SET Genre = 'Non-Fiction'\r\n",
                "WHERE Book_ID = 100;"
            ],
            "metadata": {
                "language": "sql",
                "azdata_cell_guid": "c45ef50e-b13b-44d1-b1c5-4fa151c08283"
            },
            "outputs": [
                {
                    "output_type": "display_data",
                    "data": {
                        "text/html": "(1 row affected)"
                    },
                    "metadata": {}
                },
                {
                    "output_type": "display_data",
                    "data": {
                        "text/html": "Total execution time: 00:00:00.010"
                    },
                    "metadata": {}
                }
            ],
            "execution_count": 3
        },
        {
            "cell_type": "markdown",
            "source": [
                "#### Case Study Exercise 2:\n",
                "\n",
                "Consider the Books table again. Update the Genre of the book named \"Song of Ice and Fire\".\n",
                "\n",
                "\n",
                "\n",
                "\n",
                "## 3. DELETE Statement\n",
                "\n",
                "The `DELETE` statement is used to remove rows from a table.\n",
                "\n",
                "```bash\n",
                "DELETE FROM TableName\n",
                "WHERE condition;\n",
                "\n",
                "```"
            ],
            "metadata": {
                "language": "sql",
                "azdata_cell_guid": "eb92d6bf-0e07-405c-8cb2-8f9ddfafbfce"
            },
            "attachments": {}
        },
        {
            "cell_type": "code",
            "source": [
                "DELETE FROM Books\r\n",
                "WHERE Book_ID = 100;"
            ],
            "metadata": {
                "language": "sql",
                "azdata_cell_guid": "533d5073-7ca1-4171-9a99-1bb4c1d37808"
            },
            "outputs": [
                {
                    "output_type": "display_data",
                    "data": {
                        "text/html": "(1 row affected)"
                    },
                    "metadata": {}
                },
                {
                    "output_type": "display_data",
                    "data": {
                        "text/html": "Total execution time: 00:00:00.008"
                    },
                    "metadata": {}
                }
            ],
            "execution_count": 5
        },
        {
            "cell_type": "markdown",
            "source": [
                "## Exercise\n",
                "\n",
                "Create an Employee Management System database. Consider the following Employee table:\n",
                "\n",
                "```\n",
                "CREATE TABLE Employees (\n",
                "    EmployeeID INT PRIMARY KEY,\n",
                "    Name VARCHAR(255),\n",
                "    Department VARCHAR(100),\n",
                "    Salary DECIMAL(10,2)\n",
                ");\n",
                "\n",
                "```\n",
                "\n",
                "1. Insert a new employee into the Employees table with the following details:\n",
                "\n",
                "EmployeeID: 101 Name: Jane Doe Department: Marketing Salary: 55000.00\n",
                "\n",
                "2. Update the salary of the employee with EmployeeID 101 to 60000.00.\n",
                "    \n",
                "3. Delete the employee record with EmployeeID 101 from the Employees table.\n",
                "    \n",
                "\n",
                "Create a Product Inventory Management System database. Consider the following tables for a product inventory management system.\n",
                "\n",
                "```\n",
                "CREATE TABLE Products (\n",
                "    ProductID INT PRIMARY KEY,\n",
                "    ProductName VARCHAR(255),\n",
                "    Category VARCHAR(100),\n",
                "    UnitPrice DECIMAL(10,2),\n",
                "    QuantityInStock INT\n",
                ");\n",
                "\n",
                "CREATE TABLE Orders (\n",
                "    OrderID INT PRIMARY KEY,\n",
                "    CustomerID INT,\n",
                "    OrderDate DATE,\n",
                "    TotalAmount DECIMAL(10,2)\n",
                ");\n",
                "\n",
                "```\n",
                "\n",
                "1. Insert a new product into the Products table with the following details:\n",
                "\n",
                "    - ProductID: 101\n",
                "    - ProductName: Laptop\n",
                "    - Category: Electronics\n",
                "    - UnitPrice: 1200.00\n",
                "    - QuantityInStock: 10\n",
                "\n",
                "2. Update the quantity in stock of the product with ProductID 101 to 15.\n",
                "\n",
                "3. Delete the product record with ProductID 101 from the Products table.\n",
                "\n",
                "4. Insert a new order into the Orders table with the following details:\n",
                "\n",
                "    - OrderID: 1001\n",
                "    - CustomerID: 001\n",
                "    - OrderDate: '2024-02-11'\n",
                "    - TotalAmount: 2500.00\n",
                "\n",
                "5. Update the total amount of order with OrderID 1001 to 2800.00.\n",
                "\n",
                "6. Delete the order record with OrderID 1001 from the Orders table.\n",
                "\n",
                "Create a Social Media Platform database. Consider the following tables for a social media platform.\n",
                "\n",
                "```bash\n",
                "CREATE TABLE Users (\n",
                "    UserID INT PRIMARY KEY,\n",
                "    Username VARCHAR(255),\n",
                "    Email VARCHAR(255),\n",
                "    DateOfBirth DATE\n",
                ");\n",
                "\n",
                "CREATE TABLE Posts (\n",
                "    PostID INT PRIMARY KEY,\n",
                "    UserID INT,\n",
                "    PostContent VARCHAR(MAX),\n",
                "    PostDate DATETIME\n",
                ");\n",
                "\n",
                "```\n",
                "\n",
                "1. Insert a new user into the Users table with the following details:\n",
                "\n",
                "    - UserID: 101\n",
                "    - Username: johndoe\n",
                "    - Email: johndoe@example.com\n",
                "    - DateOfBirth: '1995-08-15'\n",
                "\n",
                "2. Update the email of the user with UserID 101 to jdoe@example.com.\n",
                "\n",
                "3. Delete the user record with UserID 101 from the Users table.\n",
                "\n",
                "4. Insert a new post into the Posts table with the following details:\n",
                "\n",
                "    - PostID: 1001\n",
                "    - UserID: 201\n",
                "    - PostContent: \"Hello world!\"\n",
                "    - PostDate: '2024-02-11 10:00:00'\n",
                "\n",
                "5. Update the post content of the post with PostID 1001 to \"Goodbye world!\".\n",
                "\n",
                "6. Delete the post record with PostID 1001 from the Posts table.\n",
                ""
            ],
            "metadata": {
                "language": "sql",
                "azdata_cell_guid": "fb949536-1c2d-41db-8a57-4f6f2587f1d4"
            },
            "attachments": {}
        }
    ]
}