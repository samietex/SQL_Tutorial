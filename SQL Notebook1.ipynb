{
    "metadata": {
        "kernelspec": {
            "name": "SQL",
            "display_name": "SQL",
            "language": "sql"
        },
        "language_info": {
            "name": "sql",
            "version": ""
        }
    },
    "nbformat_minor": 2,
    "nbformat": 4,
    "cells": [
        {
            "cell_type": "markdown",
            "source": [
                "## SQL\n",
                "\n",
                "**SQL** which stands for Structured Query Language is a programming language designed for managing and manipulating relational databases. It is used to perform various operations on the data stored in a database, such as querying, updating, inserting, and deleting data. SQL also provides commands for creating, modifying, and deleting tables and other database structures.\n",
                "\n",
                "Here are the core functions of SQL:\n",
                "\n",
                "![SQL Functions](https://www.dropbox.com/scl/fi/yi1ecb9joky36k4sk4l0t/SQL-functions.png?rlkey=5rqauwingri1oflgrm3yo90hl&dl=0)\n",
                "\n",
                "**1\\. Data Definition Language(DDL):** This consists of SQL commands for creating and modifying the structure of database objects like tables, views, indexes, etc., Here is a list of DDL commands:\n",
                "\n",
                "- `CREATE`\n",
                "- `ALTER`\n",
                "- `DROP`\n",
                "\n",
                "**2\\. Data Manipulation Language(DML):** This consists of commands for inserting, updating, and deleting records in a database. List of DML commands:\n",
                "\n",
                "- `INSERT`\n",
                "- `UPDATE`\n",
                "- `DELETE`\n",
                "\n",
                "**3\\. Data Query Language(DQL):** For retrieving specific data from databases using queries. This is done using the `SELECT` statement along with various clauses to refine the data returned.\n",
                "\n",
                "SQL is both an ANSI(American National Standards Institute) and ISO(International Organization for Standardization) standard, and although many database systems use SQL, most of them also have their own additional proprietary extensions. However, the standard SQL commands such as `SELECT`, `INSERT`, `UPDATE`, `DELETE`, `CREATE`, and `DROP` can be used to accomplish almost everything that one needs to do with a database.\n",
                "\n",
                "Disclaimer: Before you continue with this resource, please take note that there are different SQL databases: Microsoft SQL Server Database, MySQL, SQLDBLite, Oracle, Access, etc.\n",
                "\n",
                "This resource is focused on how to use the Microsoft SQL Server database.\n",
                "\n",
                "### Getting Started\n",
                "\n",
                "Before downloading, it is important to review the different editions and versions of SQL Server to determine which one suits your needs. \n",
                "\n",
                "You will need to download the SQL Server. Here's a link to the SQL Server installation guide: [Here](https://learn.microsoft.com/en-us/sql/database-engine/install-windows/install-sql-server?view=sql-server-ver16)\n",
                "\n",
                "You can start by clicking on this [link](https://www.microsoft.com/en-us/sql-server/sql-server-downloads), and navigating to the Developer edition, then click on **Download now**.\n",
                "\n",
                "![SQL Server Download](https://www.dropbox.com/scl/fi/w2lsj00cllohn2cjt7cwj/SQL-download.png?rlkey=ygfwzgr0rm2ido565oloatzry&dl=0)\n",
                "\n",
                "You can then go ahead to install the SQL Server on your PC.\n",
                "\n",
                "The next thing to do now is to download and install the SQL Server Management Studio. You can use this [link](https://learn.microsoft.com/en-us/sql/ssms/download-sql-server-management-studio-ssms?view=sql-server-ver16), and then navigate to Download SSMS and click on `Free Download for SQL Server Management Studio` as indicated in the image below\n",
                "\n",
                "![Download SSMS](https://www.dropbox.com/scl/fi/alkldy16o5u7lyinezb4e/Download-SSMS.png?rlkey=dl5rrih7i8toth8hz2t8l3158&dl=0)\n",
                "\n",
                "You can use this [link](https://learn.microsoft.com/en-us/sql/relational-databases/tutorial-getting-started-with-the-database-engine?view=sql-server-ver16) for more details on getting started with Microsoft SQL Server.\n",
                "\n",
                "### DATA DEFINITION LANGUAGE\n",
                "\n",
                "**CREATE**\n",
                "\n",
                "The `CREATE` command is used to create new tables, databases, indexes, views, and other database objects.\n",
                "\n",
                "Here are some external resources for more understanding:\n",
                "\n",
                "* [Geek for Geeks SQL CREATE TABLE Statement](https://www.geeksforgeeks.org/sql-create-table/)\n",
                "* [w3schools SQL CREATE DATABASE Statement](https://www.w3schools.com/sql/sql_create_db.asp)\n",
                "\n",
                "**Example 1: Create a New Database**"
            ],
            "metadata": {
                "azdata_cell_guid": "d79d3726-45a8-4ae3-9981-aa2bd573ab64"
            },
            "attachments": {}
        },
        {
            "cell_type": "code",
            "source": [
                "CREATE DATABASE StudentDB;"
            ],
            "metadata": {
                "azdata_cell_guid": "5e91a9ce-8c6d-4ae0-b437-2f6c8cf089e9",
                "language": "sql"
            },
            "outputs": [
                {
                    "output_type": "error",
                    "evalue": "Msg 1801, Level 16, State 3, Line 1\r\nDatabase 'StudentDB' already exists. Choose a different database name.",
                    "ename": "",
                    "traceback": []
                },
                {
                    "output_type": "display_data",
                    "data": {
                        "text/html": "Total execution time: 00:00:00.005"
                    },
                    "metadata": {}
                }
            ],
            "execution_count": 3
        },
        {
            "cell_type": "markdown",
            "source": [
                "**Example 2: Create a New Table**\n",
                "\n",
                "After creating a database, you can create a table within it. Here's how to create a table named `Students` with some basic fields."
            ],
            "metadata": {
                "language": "sql",
                "azdata_cell_guid": "fe388df4-2058-4cc9-ad95-56fda13efe42"
            },
            "attachments": {}
        },
        {
            "cell_type": "code",
            "source": [
                "USE StudentDB;\r\n",
                "\r\n",
                "CREATE TABLE Students (\r\n",
                "    StudentID INT PRIMARY KEY,\r\n",
                "    FirstName VARCHAR(50),\r\n",
                "    LastName VARCHAR(50),\r\n",
                "    BirthDate DATE,\r\n",
                "    Address VARCHAR(255)\r\n",
                ");\r\n",
                ""
            ],
            "metadata": {
                "language": "sql",
                "azdata_cell_guid": "9a77a7d3-526c-4dc1-bf35-a957e0d64480"
            },
            "outputs": [
                {
                    "output_type": "error",
                    "evalue": "Msg 2714, Level 16, State 6, Line 3\r\nThere is already an object named 'Students' in the database.",
                    "ename": "",
                    "traceback": []
                },
                {
                    "output_type": "display_data",
                    "data": {
                        "text/html": "Total execution time: 00:00:00.001"
                    },
                    "metadata": {}
                }
            ],
            "execution_count": 5
        },
        {
            "cell_type": "markdown",
            "source": [
                "**Example 3: Create an Index**\r\n",
                "Creating an index on a table can improve the speed of retrieval operations."
            ],
            "metadata": {
                "language": "sql",
                "azdata_cell_guid": "69b1797d-b98e-4148-be0b-7c292cd5a41f"
            },
            "attachments": {}
        },
        {
            "cell_type": "code",
            "source": [
                "CREATE INDEX idx_lastname ON Students(LastName);\r\n",
                ""
            ],
            "metadata": {
                "language": "sql",
                "azdata_cell_guid": "35fbdc5c-55c6-49f0-8f24-dd777925d620"
            },
            "outputs": [
                {
                    "output_type": "display_data",
                    "data": {
                        "text/html": "Commands completed successfully."
                    },
                    "metadata": {}
                },
                {
                    "output_type": "display_data",
                    "data": {
                        "text/html": "Total execution time: 00:00:00.009"
                    },
                    "metadata": {}
                }
            ],
            "execution_count": 6
        },
        {
            "cell_type": "markdown",
            "source": [
                "**2. ALTER Command**\r\n",
                "\r\n",
                "The **ALTER** command is used to add, remove, or modify columns in an existing database. It is basically used to modify existing database objects, such as adding, deleting, or modifying columns in a table or changing the data type of a column.\r\n",
                "\r\n",
                "Here are some external resources for more understanding:\r\n",
                "\r\n",
                "* [w3schools SQL ALTER TABLE Statement](https://www.w3schools.com/sql/sql_alter.asp)\r\n",
                "* [Geeks for Geeks SQL ALTER TABLE](https://www.geeksforgeeks.org/sql-alter-add-drop-modify/)\r\n",
                "\r\n",
                "\r\n",
                "**Example 1: Add a New Column**"
            ],
            "metadata": {
                "language": "sql",
                "azdata_cell_guid": "0ef418ab-a7b7-4302-b318-f64085766866"
            },
            "attachments": {}
        },
        {
            "cell_type": "code",
            "source": [
                "ALTER TABLE Students\r\n",
                "ADD Email VARCHAR(100);"
            ],
            "metadata": {
                "language": "sql",
                "azdata_cell_guid": "b2cee65d-3da1-4852-b33d-0b07dafc69e0"
            },
            "outputs": [
                {
                    "output_type": "display_data",
                    "data": {
                        "text/html": "Commands completed successfully."
                    },
                    "metadata": {}
                },
                {
                    "output_type": "display_data",
                    "data": {
                        "text/html": "Total execution time: 00:00:00.008"
                    },
                    "metadata": {}
                }
            ],
            "execution_count": 7
        },
        {
            "cell_type": "markdown",
            "source": [
                "**Example 2: Modify a Column Data Type**\r\n",
                "Here's how to change the data type of the `Address` column"
            ],
            "metadata": {
                "language": "sql",
                "azdata_cell_guid": "ea8a9c1c-3a0c-4596-9485-22226de6e9f4"
            },
            "attachments": {}
        },
        {
            "cell_type": "code",
            "source": [
                "ALTER TABLE Students\r\n",
                "ALTER COLUMN Address NVARCHAR(500);"
            ],
            "metadata": {
                "language": "sql",
                "azdata_cell_guid": "ca5a410e-93bf-4c50-ad52-83a3a9212924"
            },
            "outputs": [
                {
                    "output_type": "display_data",
                    "data": {
                        "text/html": "Commands completed successfully."
                    },
                    "metadata": {}
                },
                {
                    "output_type": "display_data",
                    "data": {
                        "text/html": "Total execution time: 00:00:00.011"
                    },
                    "metadata": {}
                }
            ],
            "execution_count": 8
        },
        {
            "cell_type": "markdown",
            "source": [
                "**Example 3: Add a Primary Key**\r\n",
                "If you didn't define a primary key during table creation, you could add it later.\r\n",
                ""
            ],
            "metadata": {
                "language": "sql",
                "azdata_cell_guid": "4e956b03-b81d-4765-ae22-88d388ec0b0e"
            },
            "attachments": {}
        },
        {
            "cell_type": "code",
            "source": [
                "ALTER TABLE Students\r\n",
                "ADD CONSTRAINT PK_StudentID PRIMARY KEY (StudentID);"
            ],
            "metadata": {
                "language": "sql",
                "azdata_cell_guid": "63363151-f1f8-49b3-9f87-3ae130ea341f"
            },
            "outputs": [
                {
                    "output_type": "error",
                    "evalue": "Msg 1779, Level 16, State 0, Line 1\r\nTable 'Students' already has a primary key defined on it.",
                    "ename": "",
                    "traceback": []
                },
                {
                    "output_type": "error",
                    "evalue": "Msg 1750, Level 16, State 0, Line 1\r\nCould not create constraint or index. See previous errors.",
                    "ename": "",
                    "traceback": []
                },
                {
                    "output_type": "display_data",
                    "data": {
                        "text/html": "Total execution time: 00:00:00.006"
                    },
                    "metadata": {}
                }
            ],
            "execution_count": 9
        },
        {
            "cell_type": "markdown",
            "source": [
                "In this case, we already have a primary key in the Students table, hence the above error.  \n",
                "  \n",
                "\n",
                "**3\\. DROP Command**\n",
                "\n",
                "The **DROP** command is used to delete objects from the database. Be caredul with this command, as it removes the object and its data permanenty.\n",
                "\n",
                "Here are some external resources for your indepth understanding:\n",
                "\n",
                "* [w3schools SQL DROP TABLE statement](https://www.w3schools.com/sql/sql_drop_table.asp)\n",
                "* [Geeks for Geeks DROP and TRUNCATE in SQL](https://www.geeksforgeeks.org/sql-drop-truncate/)\n",
                "\n",
                "**Example 1: Drop a Table**"
            ],
            "metadata": {
                "language": "sql",
                "azdata_cell_guid": "9f77784a-39b1-4cde-b507-08444f022fae"
            },
            "attachments": {}
        },
        {
            "cell_type": "code",
            "source": [
                "DROP TABLE Students;"
            ],
            "metadata": {
                "language": "sql",
                "azdata_cell_guid": "42bb8b72-d07a-4355-abca-5c949e2a34ef"
            },
            "outputs": [
                {
                    "output_type": "display_data",
                    "data": {
                        "text/html": "Commands completed successfully."
                    },
                    "metadata": {}
                },
                {
                    "output_type": "display_data",
                    "data": {
                        "text/html": "Total execution time: 00:00:00.007"
                    },
                    "metadata": {}
                }
            ],
            "execution_count": 10
        },
        {
            "cell_type": "markdown",
            "source": [
                "From the above, we are trying to drop the 'Students' table. Depending on the name of the table you are trying to drop, all you have to do is to use this format:\r\n",
                "\r\n",
                "`DROP TABLE table_name`\r\n",
                "\r\n",
                "Where `table_name` is the name of the table you are trying to drop"
            ],
            "metadata": {
                "language": "sql",
                "azdata_cell_guid": "dd34565c-121c-4940-84d9-58ec53b1e906"
            },
            "attachments": {}
        },
        {
            "cell_type": "markdown",
            "source": [
                "**Example 2: Drop a Database**\r\n",
                ""
            ],
            "metadata": {
                "language": "sql",
                "azdata_cell_guid": "114d8e14-a941-4b78-ab34-35314b3eb1c0"
            },
            "attachments": {}
        },
        {
            "cell_type": "code",
            "source": [
                "DROP DATABASE StudentDB;"
            ],
            "metadata": {
                "language": "sql",
                "azdata_cell_guid": "65bfa8b3-872f-4d50-9705-b358ac340520"
            },
            "outputs": [
                {
                    "output_type": "error",
                    "evalue": "Msg 3702, Level 16, State 3, Line 1\r\nCannot drop database \"StudentDB\" because it is currently in use.",
                    "ename": "",
                    "traceback": []
                },
                {
                    "output_type": "display_data",
                    "data": {
                        "text/html": "Total execution time: 00:00:00"
                    },
                    "metadata": {}
                }
            ],
            "execution_count": 12
        },
        {
            "cell_type": "markdown",
            "source": [
                "The above code is also demonstrating how to drop a database using this format:\r\n",
                "\r\n",
                "`DROP DATABASE database_name`\r\n",
                "\r\n",
                "Where `database_name` is the name of the database you are trying to drop.\r\n",
                "\r\n",
                "Here are some best practices and tips:\r\n",
                "\r\n",
                "* Backup Before Dropping: Always ensure you have a backup before using the `DROP` command, as it permanently deletes your data.\r\n",
                "* Understand Dependencies: Be aware of dependencies between database objects. Dropping one object might affect others.\r\n",
                "* Use Transactions: When making multiple related changes, use transactions to ensure that all changes are made successfully or none at all.\r\n",
                "* Regularly Review Schema: As your application evolves, review and update the database schema to ensure it meets current needs.\r\n",
                "\r\n",
                "For better understanding, here are some external resources for the above best practices and tips:\r\n",
                "\r\n",
                "**Backup Before Dropping**\r\n",
                "\r\n",
                "[Importance of backing up SQL Server Databases](https://learn.microsoft.com/en-us/sql/relational-databases/backup-restore/back-up-and-restore-of-sql-server-databases?view=sql-server-ver16)\r\n",
                "\r\n",
                "[SQL Server Backup Mastery](https://sqlbak.com/blog/sql-backup-mastery-tips-tricks-recommendations/)\r\n",
                "\r\n",
                "[SQL Server Backup and Restore Best Practices](https://www.msp360.com/resources/blog/sql-server-backup-and-restore/)\r\n",
                "\r\n",
                "[Keep SQL Server Backups Safe: Best Practices](https://red9.com/blog/best-practices-to-keep-your-sql-server-backups-safe/)\r\n",
                "\r\n",
                "**Use Transactions**\r\n",
                "\r\n",
                "[Quickstart: Back up & restore database with SSMS](https://learn.microsoft.com/en-us/sql/relational-databases/backup-restore/quickstart-backup-restore-database?view=sql-server-ver16) \r\n",
                "\r\n",
                ""
            ],
            "metadata": {
                "language": "sql",
                "azdata_cell_guid": "cc823e1c-c7e6-43d0-952d-46de38b99308"
            },
            "attachments": {}
        },
        {
            "cell_type": "markdown",
            "source": [
                ""
            ],
            "metadata": {
                "language": "sql",
                "azdata_cell_guid": "1f436356-2d06-48d1-8f8a-4659b09716b3"
            }
        }
    ]
}